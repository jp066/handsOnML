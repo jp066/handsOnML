{
 "cells": [
  {
   "cell_type": "code",
   "execution_count": 2,
   "id": "c11d8c65",
   "metadata": {},
   "outputs": [],
   "source": [
    "import pandas as pd\n",
    "import numpy as np\n",
    "from pandas import DataFrame\n",
    "import seaborn as sns"
   ]
  },
  {
   "cell_type": "markdown",
   "id": "731dd0b6-decb-44b8-a72b-c69040a2af50",
   "metadata": {},
   "source": [
    "- o pandas é para manipulação de dados\n",
    "- a numpy é para trabalharmos com algumas operações matematicas\n",
    "- o dataframe serve para organizar e manipular dados tabulares, como planilhas ou tabelas de banco de dados"
   ]
  },
  {
   "cell_type": "markdown",
   "id": "dbe2a058-ba95-4178-b491-f6de3c11844c",
   "metadata": {},
   "source": [
    "# adquirindo os dados"
   ]
  },
  {
   "cell_type": "code",
   "execution_count": null,
   "id": "ab1bd967-e35f-44a5-bd35-e0bbce58b933",
   "metadata": {},
   "outputs": [],
   "source": [
    "data = pd.read_excel(\"IBM.xlsx\")"
   ]
  }
 ],
 "metadata": {
  "kernelspec": {
   "display_name": "Python 3 (ipykernel)",
   "language": "python",
   "name": "python3"
  },
  "language_info": {
   "codemirror_mode": {
    "name": "ipython",
    "version": 3
   },
   "file_extension": ".py",
   "mimetype": "text/x-python",
   "name": "python",
   "nbconvert_exporter": "python",
   "pygments_lexer": "ipython3",
   "version": "3.13.7"
  }
 },
 "nbformat": 4,
 "nbformat_minor": 5
}
