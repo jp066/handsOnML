{
 "cells": [
  {
   "cell_type": "code",
   "execution_count": 43,
   "id": "c11d8c65",
   "metadata": {},
   "outputs": [],
   "source": [
    "import pandas as pd\n",
    "import numpy as np\n",
    "from pandas import DataFrame\n",
    "import seaborn as sns"
   ]
  },
  {
   "cell_type": "markdown",
   "id": "731dd0b6-decb-44b8-a72b-c69040a2af50",
   "metadata": {},
   "source": [
    "- o pandas é para manipulação de dados\n",
    "- a numpy é para trabalharmos com algumas operações matematicas\n",
    "- o dataframe serve para organizar e manipular dados tabulares, como planilhas ou tabelas de banco de dados"
   ]
  },
  {
   "cell_type": "markdown",
   "id": "a89e7c79",
   "metadata": {},
   "source": [
    "# instalando dataset"
   ]
  },
  {
   "cell_type": "code",
   "execution_count": 44,
   "id": "ff40115a",
   "metadata": {},
   "outputs": [
    {
     "name": "stdout",
     "output_type": "stream",
     "text": [
      "Path to dataset files: C:\\Users\\joaop\\.cache\\kagglehub\\datasets\\matleonard\\feature-engineering-data\\versions\\4\n"
     ]
    }
   ],
   "source": [
    "import kagglehub\n",
    "\n",
    "# Download latest version\n",
    "path = kagglehub.dataset_download(\"matleonard/feature-engineering-data\")\n",
    "\n",
    "print(\"Path to dataset files:\", path)"
   ]
  },
  {
   "cell_type": "markdown",
   "id": "dbe2a058-ba95-4178-b491-f6de3c11844c",
   "metadata": {},
   "source": [
    "# adquirindo os dados"
   ]
  },
  {
   "cell_type": "code",
   "execution_count": 45,
   "id": "92bdb0da",
   "metadata": {},
   "outputs": [
    {
     "data": {
      "text/html": [
       "<div>\n",
       "<style scoped>\n",
       "    .dataframe tbody tr th:only-of-type {\n",
       "        vertical-align: middle;\n",
       "    }\n",
       "\n",
       "    .dataframe tbody tr th {\n",
       "        vertical-align: top;\n",
       "    }\n",
       "\n",
       "    .dataframe thead th {\n",
       "        text-align: right;\n",
       "    }\n",
       "</style>\n",
       "<table border=\"1\" class=\"dataframe\">\n",
       "  <thead>\n",
       "    <tr style=\"text-align: right;\">\n",
       "      <th></th>\n",
       "      <th>ip</th>\n",
       "      <th>app</th>\n",
       "      <th>device</th>\n",
       "      <th>os</th>\n",
       "      <th>channel</th>\n",
       "      <th>click_time</th>\n",
       "      <th>attributed_time</th>\n",
       "      <th>is_attributed</th>\n",
       "    </tr>\n",
       "  </thead>\n",
       "  <tbody>\n",
       "    <tr>\n",
       "      <th>0</th>\n",
       "      <td>89489</td>\n",
       "      <td>3</td>\n",
       "      <td>1</td>\n",
       "      <td>13</td>\n",
       "      <td>379</td>\n",
       "      <td>2017-11-06 15:13:23</td>\n",
       "      <td>NaN</td>\n",
       "      <td>0</td>\n",
       "    </tr>\n",
       "    <tr>\n",
       "      <th>1</th>\n",
       "      <td>204158</td>\n",
       "      <td>35</td>\n",
       "      <td>1</td>\n",
       "      <td>13</td>\n",
       "      <td>21</td>\n",
       "      <td>2017-11-06 15:41:07</td>\n",
       "      <td>2017-11-07 08:17:19</td>\n",
       "      <td>1</td>\n",
       "    </tr>\n",
       "    <tr>\n",
       "      <th>2</th>\n",
       "      <td>3437</td>\n",
       "      <td>6</td>\n",
       "      <td>1</td>\n",
       "      <td>13</td>\n",
       "      <td>459</td>\n",
       "      <td>2017-11-06 15:42:32</td>\n",
       "      <td>NaN</td>\n",
       "      <td>0</td>\n",
       "    </tr>\n",
       "    <tr>\n",
       "      <th>3</th>\n",
       "      <td>167543</td>\n",
       "      <td>3</td>\n",
       "      <td>1</td>\n",
       "      <td>13</td>\n",
       "      <td>379</td>\n",
       "      <td>2017-11-06 15:56:17</td>\n",
       "      <td>NaN</td>\n",
       "      <td>0</td>\n",
       "    </tr>\n",
       "    <tr>\n",
       "      <th>4</th>\n",
       "      <td>147509</td>\n",
       "      <td>3</td>\n",
       "      <td>1</td>\n",
       "      <td>13</td>\n",
       "      <td>379</td>\n",
       "      <td>2017-11-06 15:57:01</td>\n",
       "      <td>NaN</td>\n",
       "      <td>0</td>\n",
       "    </tr>\n",
       "  </tbody>\n",
       "</table>\n",
       "</div>"
      ],
      "text/plain": [
       "       ip  app  device  os  channel           click_time      attributed_time  \\\n",
       "0   89489    3       1  13      379  2017-11-06 15:13:23                  NaN   \n",
       "1  204158   35       1  13       21  2017-11-06 15:41:07  2017-11-07 08:17:19   \n",
       "2    3437    6       1  13      459  2017-11-06 15:42:32                  NaN   \n",
       "3  167543    3       1  13      379  2017-11-06 15:56:17                  NaN   \n",
       "4  147509    3       1  13      379  2017-11-06 15:57:01                  NaN   \n",
       "\n",
       "   is_attributed  \n",
       "0              0  \n",
       "1              1  \n",
       "2              0  \n",
       "3              0  \n",
       "4              0  "
      ]
     },
     "execution_count": 45,
     "metadata": {},
     "output_type": "execute_result"
    }
   ],
   "source": [
    "data = pd.read_csv(\"datasets/train_sample.csv\")\n",
    "data.head() # Display the first few rows of the dataset"
   ]
  },
  {
   "cell_type": "markdown",
   "id": "563e9e9e",
   "metadata": {},
   "source": [
    "# Passo 2 - Valores faltantes"
   ]
  },
  {
   "cell_type": "code",
   "execution_count": 46,
   "id": "3f5f3c34",
   "metadata": {},
   "outputs": [
    {
     "data": {
      "text/html": [
       "<div>\n",
       "<style scoped>\n",
       "    .dataframe tbody tr th:only-of-type {\n",
       "        vertical-align: middle;\n",
       "    }\n",
       "\n",
       "    .dataframe tbody tr th {\n",
       "        vertical-align: top;\n",
       "    }\n",
       "\n",
       "    .dataframe thead th {\n",
       "        text-align: right;\n",
       "    }\n",
       "</style>\n",
       "<table border=\"1\" class=\"dataframe\">\n",
       "  <thead>\n",
       "    <tr style=\"text-align: right;\">\n",
       "      <th></th>\n",
       "      <th>Total em nulos</th>\n",
       "      <th>Percentual de nulos</th>\n",
       "    </tr>\n",
       "  </thead>\n",
       "  <tbody>\n",
       "    <tr>\n",
       "      <th>attributed_time</th>\n",
       "      <td>1843715</td>\n",
       "      <td>0.80142</td>\n",
       "    </tr>\n",
       "    <tr>\n",
       "      <th>ip</th>\n",
       "      <td>0</td>\n",
       "      <td>0.00000</td>\n",
       "    </tr>\n",
       "    <tr>\n",
       "      <th>device</th>\n",
       "      <td>0</td>\n",
       "      <td>0.00000</td>\n",
       "    </tr>\n",
       "    <tr>\n",
       "      <th>app</th>\n",
       "      <td>0</td>\n",
       "      <td>0.00000</td>\n",
       "    </tr>\n",
       "    <tr>\n",
       "      <th>os</th>\n",
       "      <td>0</td>\n",
       "      <td>0.00000</td>\n",
       "    </tr>\n",
       "    <tr>\n",
       "      <th>channel</th>\n",
       "      <td>0</td>\n",
       "      <td>0.00000</td>\n",
       "    </tr>\n",
       "    <tr>\n",
       "      <th>click_time</th>\n",
       "      <td>0</td>\n",
       "      <td>0.00000</td>\n",
       "    </tr>\n",
       "    <tr>\n",
       "      <th>is_attributed</th>\n",
       "      <td>0</td>\n",
       "      <td>0.00000</td>\n",
       "    </tr>\n",
       "  </tbody>\n",
       "</table>\n",
       "</div>"
      ],
      "text/plain": [
       "                 Total em nulos  Percentual de nulos\n",
       "attributed_time         1843715              0.80142\n",
       "ip                            0              0.00000\n",
       "device                        0              0.00000\n",
       "app                           0              0.00000\n",
       "os                            0              0.00000\n",
       "channel                       0              0.00000\n",
       "click_time                    0              0.00000\n",
       "is_attributed                 0              0.00000"
      ]
     },
     "execution_count": 46,
     "metadata": {},
     "output_type": "execute_result"
    }
   ],
   "source": [
    "total = data.isnull().sum().sort_values(ascending=False)\n",
    "percent = (data.isnull().sum()/data.isnull().count()).sort_values(ascending=False)\n",
    "missing_data = pd.concat([total, percent], axis=1, keys= ['Total em nulos', 'Percentual de nulos'])\n",
    "missing_data.head(20)"
   ]
  },
  {
   "cell_type": "markdown",
   "id": "8904fb63",
   "metadata": {},
   "source": [
    "\n",
    "- em total, basicamente, percorre todas as colunas e conta quantos valores nulos existem em cada coluna\n",
    "- em percent, calcula a porcentagem de valores nulos em cada coluna, dividindo o número de valores nulos pelo número total de entradas na coluna\n",
    "- em missing_data, concatena os dois resultados anteriores em um único DataFrame, com duas colunas: 'Total' e 'Percentual', facilitando a visualização dos valores nulos em cada coluna do conjunto de dados.\n",
    "- o head(20) exibe as primeiras 20 linhas do DataFrame resultante, mostrando as colunas com mais valores nulos e suas respectivas porcentagens."
   ]
  },
  {
   "cell_type": "code",
   "execution_count": 47,
   "id": "7ac6d38c",
   "metadata": {},
   "outputs": [
    {
     "name": "stdout",
     "output_type": "stream",
     "text": [
      "False\n",
      "0\n"
     ]
    },
    {
     "data": {
      "text/html": [
       "<div>\n",
       "<style scoped>\n",
       "    .dataframe tbody tr th:only-of-type {\n",
       "        vertical-align: middle;\n",
       "    }\n",
       "\n",
       "    .dataframe tbody tr th {\n",
       "        vertical-align: top;\n",
       "    }\n",
       "\n",
       "    .dataframe thead th {\n",
       "        text-align: right;\n",
       "    }\n",
       "</style>\n",
       "<table border=\"1\" class=\"dataframe\">\n",
       "  <thead>\n",
       "    <tr style=\"text-align: right;\">\n",
       "      <th></th>\n",
       "      <th>Total</th>\n",
       "      <th>Percentual</th>\n",
       "    </tr>\n",
       "  </thead>\n",
       "  <tbody>\n",
       "  </tbody>\n",
       "</table>\n",
       "</div>"
      ],
      "text/plain": [
       "Empty DataFrame\n",
       "Columns: [Total, Percentual]\n",
       "Index: []"
      ]
     },
     "execution_count": 47,
     "metadata": {},
     "output_type": "execute_result"
    }
   ],
   "source": [
    "# como o numero de valores faltantes em attributed_time é quase 81%, vamos deletar essa coluna.\n",
    "data.drop(['attributed_time'], axis=1, inplace=True) # inplace=True faz a alteração diretamente no DataFrame original\n",
    "data.isnull().sum().sum()\n",
    "# Verificar se a coluna foi removida\n",
    "print('attributed_time' in data.columns)\n",
    "\n",
    "# Recalcular missing_data após alterações\n",
    "total = data.isnull().sum().sort_values(ascending=False)\n",
    "percent = (data.isnull().sum()/data.shape[0]).sort_values(ascending=False)\n",
    "missing_data = pd.concat([total, percent], axis=1, keys=['Total', 'Percentual'])\n",
    "print(data.isnull().sum().sum())        # total de valores faltantes\n",
    "missing_data[missing_data['Total'] > 0] # colunas com valores faltantes"
   ]
  },
  {
   "cell_type": "code",
   "execution_count": 54,
   "id": "6901e4fe",
   "metadata": {},
   "outputs": [
    {
     "data": {
      "text/plain": [
       "count    2.300561e+06\n",
       "mean     1.985803e-01\n",
       "std      3.989313e-01\n",
       "min      0.000000e+00\n",
       "25%      0.000000e+00\n",
       "50%      0.000000e+00\n",
       "75%      0.000000e+00\n",
       "max      1.000000e+00\n",
       "Name: is_attributed, dtype: float64"
      ]
     },
     "execution_count": 54,
     "metadata": {},
     "output_type": "execute_result"
    }
   ],
   "source": [
    "data.is_attributed.describe()"
   ]
  },
  {
   "cell_type": "markdown",
   "id": "f10551a5",
   "metadata": {},
   "source": [
    "# Normalização dos dados\n",
    "- para normalizar os dados, podemos usar a técnica de Min-Max Scaling, que transforma os valores de uma coluna para um intervalo entre 0 e 1. Isso é feito subtraindo o valor mínimo da coluna e dividindo pela diferença entre o valor máximo e o valor mínimo.\n",
    "- formula:\n",
    "-   (valor_normalizar - valor_minimo) / (valor_maximo - valor_minimo)\n",
    "- exemplo: data['coluna_normalizada'] = (data['coluna'] - data['coluna'].min()) / (data['coluna'].max() - data['coluna'].min())"
   ]
  },
  {
   "cell_type": "markdown",
   "id": "6a9055d0",
   "metadata": {},
   "source": [
    "# Padronização dos dados\n",
    "- A padronização é igual a:\n",
    "-  (valor_a_padronizar - media) / desvio_padrao\n",
    "o "
   ]
  },
  {
   "cell_type": "markdown",
   "id": "459e8be7",
   "metadata": {},
   "source": []
  }
 ],
 "metadata": {
  "kernelspec": {
   "display_name": "Python 3",
   "language": "python",
   "name": "python3"
  },
  "language_info": {
   "codemirror_mode": {
    "name": "ipython",
    "version": 3
   },
   "file_extension": ".py",
   "mimetype": "text/x-python",
   "name": "python",
   "nbconvert_exporter": "python",
   "pygments_lexer": "ipython3",
   "version": "3.13.7"
  }
 },
 "nbformat": 4,
 "nbformat_minor": 5
}
